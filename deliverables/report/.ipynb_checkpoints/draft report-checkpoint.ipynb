{
 "cells": [
  {
   "cell_type": "markdown",
   "id": "f90d476b",
   "metadata": {},
   "source": [
    "# Draft Project Report"
   ]
  },
  {
   "cell_type": "markdown",
   "id": "d7933930",
   "metadata": {},
   "source": [
    "### Introduction (5 points)\n",
    "- Student clearly established the aim of the project.\n",
    "- Student offered a clear roadmap of the report (i.e what is covered in the report).\n",
    "\n",
    "### Problem Statement and Background (5 points)\n",
    "- Student offered a clear and complete statement of the problem and/or aim of their analysis.\n",
    "- Student included a brief summary of any related work (i.e. a light literature review)\n",
    "\n",
    "### Data (5 points)\n",
    "- Student outlined where their data came from.\n",
    "- Student clearly specified:\n",
    "    - the unit of observation;\n",
    "    - the outcome of interest and how it is measured;\n",
    "    - predictor variables of interest (and why they were selected);\n",
    "    - potential issues in the data (e.g. missingness, coverage, etc.)\n",
    "- Student articulate the steps they took to wrangle the data.\n",
    "\n",
    "### Analysis (5 points)\n",
    "- Student described the methods/tools they explored in their project.\n",
    "    - Justified the tools/methods that they used.\n",
    "    - Adequately described what the tools/methods are doing.\n",
    "    - Note: Assume the reader is smart but doesn’t know programming/machine mearning well. That is, be crystal clear about what you’re doing and why.\n",
    "\n",
    "### Results (5 points)\n",
    "- Student gave a detailed summary of their results.\n",
    "- Student presented their results clearly and concisely.\n",
    "- Student used visualizations (and tables) whenever possible/appropriate.\n",
    "- Student highlighted some clear takeaways (“things learned”) and theoretical implications\n",
    "(“potential hypotheses”) from their analysis.\n",
    "\n",
    "### Discussion (5 points)\n",
    "- Student spoke on the “success” of their project (as defined in their proposal).\n",
    "    - “Did you achieve what you set out to do? If not why?”\n",
    "- Student articulate how they would expand the analysis if given more time.\n"
   ]
  }
 ],
 "metadata": {
  "kernelspec": {
   "display_name": "Python 3 (ipykernel)",
   "language": "python",
   "name": "python3"
  },
  "language_info": {
   "codemirror_mode": {
    "name": "ipython",
    "version": 3
   },
   "file_extension": ".py",
   "mimetype": "text/x-python",
   "name": "python",
   "nbconvert_exporter": "python",
   "pygments_lexer": "ipython3",
   "version": "3.10.0"
  }
 },
 "nbformat": 4,
 "nbformat_minor": 5
}
