{
 "cells": [
  {
   "cell_type": "code",
   "execution_count": null,
   "metadata": {},
   "outputs": [],
   "source": [
    "import numpy as np\n",
    "import pandas as pd\n",
    "\n",
    "import emoji\n",
    "import datetime\n",
    "from os.path import exists # check if path exists\n",
    "import urllib.request # save image to file\n",
    "from IPython.display import Image # display image in markdown\n",
    "import PIL.Image # get pixel color data from image\n",
    "\n",
    "from color_shear_list import color_shear_list # list connecting color and temperature from color_temp_list.py\n",
    "from color_temp_list import color_temp_list # list connecting color and temperature from color_temp_list.py"
   ]
  },
  {
   "cell_type": "markdown",
   "metadata": {},
   "source": [
    "# 🌎 Sea Surface Temperature 🌎\n",
    "### Sea Surface Temperature (SST) is of critical importance for 🌀 hurricanes 🌀, who knew!\n",
    "\n",
    "The study of **Tropical Storm Rapid Intensification (RI)** has grown considerably in the last decade. Scientists studying RI hypothesize that several different environmental factors may dramtically increase the liklihood of an RI event occuring. One such environmental factor is **Sea Surface Temperature**. Since tropical stroms draw their energy mainly from warm water, it follow that higher SST may lead to an increased risk of RI.\n",
    "\n",
    "\n",
    "\n",
    "I ran into many data access issues when searching for daily SST data for every coordinate in the Carribbean, so I scraped it from the NOAA images available [here](https://coralreefwatch.noaa.gov/product/5km/index.php#data_access). "
   ]
  },
  {
   "cell_type": "code",
   "execution_count": null,
   "metadata": {
    "scrolled": false
   },
   "outputs": [],
   "source": [
    "Image(filename='../data/SST_images/20211111.jpg') # SST on November 11th, 2021"
   ]
  },
  {
   "cell_type": "markdown",
   "metadata": {},
   "source": [
    "These methods collect the date and geographic coordinates from each storm observation in the HURDAT data set, and scrape the pixel color from the corresponfing daily NOAA SST image. Then, the color is compared to the color bar scale and converted back into a temperature. When selecting pixels, a sample of nearby pixels are chosen and averaged to gat a relative-nearby temperature for the pixel. If the eye of the storm is over land, the SST is returned as NaN. "
   ]
  },
  {
   "cell_type": "markdown",
   "metadata": {},
   "source": [
    "## Download and Calibrate the Image\n",
    "If the NOAA SST image does not exist we download it, otherwise the images are saved in the SST_images folder, one for every day. We want to ensure an image is always centered and the proper size, so whenever we call an image we check the alignmment with the `check_alignment()`, which checks several pixel colors are returns `True` is the image is properly aligned."
   ]
  },
  {
   "cell_type": "code",
   "execution_count": null,
   "metadata": {},
   "outputs": [],
   "source": [
    "def get_sst_image_url(d):\n",
    "    \"\"\" args: datetime; returns the url for the NOAA SST image for the argument date\"\"\"\n",
    "    return f\"https://coralreefwatch.noaa.gov/data/5km/v3.1_op/image/daily/sst/png/{d.year}/{d:%m}/coraltemp_v3.1_caribbean_{d.year}{d:%m}{d:%d}.png\""
   ]
  },
  {
   "cell_type": "code",
   "execution_count": null,
   "metadata": {
    "scrolled": true
   },
   "outputs": [],
   "source": [
    "def save_image_to_file(url_, name):\n",
    "    \"\"\" \n",
    "    save an image to current directory from url\n",
    "    args: \n",
    "        url (string): of image\n",
    "        name (string): to save file as\n",
    "    returns: \n",
    "        None\n",
    "    \"\"\"\n",
    "    urllib.request.urlretrieve(url_, name)"
   ]
  },
  {
   "cell_type": "code",
   "execution_count": null,
   "metadata": {},
   "outputs": [],
   "source": [
    "\"\"\" List of tests and answers to determine if the NOAA SST image is properly aligned \"\"\"\n",
    "\n",
    "a1 = (62,102); a1_ = (255, 255, 255, 255)\n",
    "b1 = (63,103); b1_ = (10, 10, 10, 255)\n",
    "c1 = (64,104); c1_ = (150, 150, 150, 255)\n",
    "\n",
    "a2 = (1595,102); a2_ = (255, 255, 255, 255)\n",
    "b2 = (1594,103); b2_ = (10, 10, 10, 255)\n",
    "c2 = (1593,104); c2_ = (150, 150, 150, 255)\n",
    "\n",
    "a3 = (1595,869); a3_ = (255, 255, 255, 255)\n",
    "b3 = (1594,868); b3_ = (10, 10, 10, 255)\n",
    "c3 = (1593,867); c3_ = (150, 150, 150, 255)\n",
    "\n",
    "a4 = (62,869); a4_ = (255, 255, 255, 255)\n",
    "b4 = (63,868); b4_ = (10, 10, 10, 255)\n",
    "c4 = (64,867); c4_ = (150, 150, 150, 255)\n",
    "\n",
    "tests_sst = [a1,b1,c1,a2,b2,c2,a3,b3,c3,a4,b4,c4]\n",
    "answers_sst = [a1_,b1_,c1_,a2_,b2_,c2_,a3_,b3_,c3_,a4_,b4_,c4_]"
   ]
  },
  {
   "cell_type": "code",
   "execution_count": null,
   "metadata": {},
   "outputs": [],
   "source": [
    "def get_pix_object(name):\n",
    "    \"\"\" args: file name; returns the 'pix' object from PIL module, which we can check the pixel color values of \"\"\"\n",
    "    im = PIL.Image.open(name).convert('RGB')\n",
    "    pix = im.load()\n",
    "    return pix"
   ]
  },
  {
   "cell_type": "code",
   "execution_count": null,
   "metadata": {},
   "outputs": [],
   "source": [
    "def check_alignment(pix, tests, answers):\n",
    "    \"\"\" \n",
    "    ensure that the image is aligned with where we 'think' it is. this method runs through 12 test checking\n",
    "    if expected pixel values (of the map border) are where we expect them to be.\n",
    "    args:\n",
    "        pix (pix): image object to test pixel colors\n",
    "        tests (list): list of tuples of test pixels for NOAA SST images\n",
    "        answers (list): list of tuples of pixel colors for NOAA SST images (from the border)\n",
    "    returns:\n",
    "        boolean: True is image is aligned, False if not\n",
    "    \"\"\"\n",
    "    for i in range(len(tests)):\n",
    "        try:\n",
    "            pix[tests[i]] == answers[i]\n",
    "        except:\n",
    "            return False\n",
    "    return True"
   ]
  },
  {
   "cell_type": "markdown",
   "metadata": {},
   "source": [
    "## Transitioning between Image and the Real World\n",
    "\n",
    "There are several useful methods defined here that make the interaction between real life and the NOAA SST image a little easier. First, we can get the pixel location based on the geogrpahic coordinates with `get_pixel_location_from_coords`. This is made simpler because the map uses constant scaling for both latitude and longitude, allowing us to calculate the position linearly.\n",
    "\n",
    "Refer back to the image above, as you can see it is possible for the storm-eye coordinates to fall directly on a reference line of the map, returning a color (black, from the line color) that is not the actual SST (which should have yellow, or whatever). To avoid this, we consider all points within a radius of our desired point, and average them toegther in `find_neighbors_within_K`, thus avoiding this reference line issue. "
   ]
  },
  {
   "cell_type": "code",
   "execution_count": null,
   "metadata": {},
   "outputs": [],
   "source": [
    "def get_pixel_location_from_coords(coords, x, y, lat, lon):\n",
    "    \"\"\"\n",
    "    convert the a coordinates tuple (lat,lon) into a pixel location in the NOAA SST image;\n",
    "    note we must be sure the image is aligned first (w/ check_alignment()) to ensure the x/y,min/maxs are correct;\n",
    "    args:\n",
    "        coords (tuple): a tuple of the coordinates to find the pixel location of (lat,lon)\n",
    "    returns:\n",
    "        (pixel_x,pixel,y) (tuple): tuple of the pixel coordinates for the argument lat/lon coordinates\n",
    "    \"\"\"\n",
    "    # set min/max values based on defualt image locations\n",
    "    x_min = x[0];  y_min = y[0];\n",
    "    x_max = x[1];  y_max = y[1];\n",
    "    \n",
    "    # caclulate width and height of image\n",
    "    width = x_max - x_min\n",
    "    height = y_max - y_min\n",
    "    \n",
    "    # set min/max lat/lon boundaries displayed in image\n",
    "    # note: this works becuase the image is orthogonal (no change in latitude size as we go north )\n",
    "    lat_min = lat[0];  lon_min = lon[0];\n",
    "    lat_max = lat[1];  lon_max = lon[1];\n",
    "    \n",
    "    # calculate the percentage of lat/lon we are in (i.e. 50deg = 0%, 75deg = 50%, 100deg = 100%)\n",
    "    percent_lat = (coords[0] - lat_min)/(lat_max - lat_min)\n",
    "    percent_lon = (coords[1] - lon_min)/(lon_max - lon_min)\n",
    "    \n",
    "    # calculate pixel positions based on previous values\n",
    "    pixel_x = round(x_min + (percent_lon * width))\n",
    "    pixel_y = round(y_min + (percent_lat * height))\n",
    "    \n",
    "    return pixel_x, pixel_y    "
   ]
  },
  {
   "cell_type": "code",
   "execution_count": null,
   "metadata": {},
   "outputs": [],
   "source": [
    "def find_neighbors_within_K(p0, K, x, y):\n",
    "    \"\"\"\n",
    "    find all pixels within K pixels (euclidean distance) of the argument pixel p0;\n",
    "    args:\n",
    "        p0 (tuple, length 2): pixel of interest, we are finding neightbors of this pixel\n",
    "        K (float): distance parameter, we are finding all pixels within K units of p0\n",
    "    returns:\n",
    "        neighbors (list of tuple): the points that are with K units of p0\n",
    "    \"\"\"\n",
    "    neighbors = [] # list to store pixels close to p0\n",
    "\n",
    "    # based on defulat image position\n",
    "    x_min = x[0];  y_min = y[0];\n",
    "    x_max = x[1];  y_max = y[1];\n",
    "    \n",
    "    # calculate width and height\n",
    "    width = x_max - x_min\n",
    "    height = y_max - y_min\n",
    "    \n",
    "    # iterate through all pixels in image, checking if they are within K units of p0\n",
    "    for i in range(width):\n",
    "        x = x_min + i # x pos to check for\n",
    "        for j in range(height):\n",
    "            y = y_min + j # y pos to check for\n",
    "            if calculate_distance_between_pixels(p0,(x,y)) < K:\n",
    "                neighbors.append((x,y)) # add if distance is less than K\n",
    "    return neighbors"
   ]
  },
  {
   "cell_type": "code",
   "execution_count": null,
   "metadata": {},
   "outputs": [],
   "source": [
    "def calculate_distance_between_pixels(a,b):\n",
    "    \"\"\" \n",
    "    calculate the euclidean distance between two pixels;\n",
    "    args: \n",
    "        a,b (tuples, length 2) pixels to test, e.g. a=(10,20)\n",
    "    returns: \n",
    "        distance between pixels (float)\n",
    "    \"\"\"\n",
    "    summ = 0\n",
    "    for i in range(2): # calculate euclidean distance for 2 coordinates\n",
    "        summ += abs(a[i] - b[i])**2\n",
    "    return summ**0.5"
   ]
  },
  {
   "cell_type": "code",
   "execution_count": null,
   "metadata": {},
   "outputs": [],
   "source": [
    "def get_mean_temp_of_neighbors(pix, neighbors):\n",
    "    \"\"\"\n",
    "    get the mean temperature of a list of pixels, approximating the temperature of a specific pixel;\n",
    "    args:\n",
    "        neighbors (list of tuples): pixels within a radius of our pixel of interest\n",
    "    returns:\n",
    "        temperature (float): the average temperature of all of th heighbor pixels\n",
    "    \"\"\"\n",
    "    temps = np.array([]) # empty array to store temperature of pixels\n",
    "    for n in neighbors:\n",
    "        new_temp = get_temperature_from_color(pix[n[0],n[1]]) # get temperature of single pixel\n",
    "        temps = np.append(temps, new_temp)\n",
    "    if len(temps) == 0: return np.nan\n",
    "    return round(np.nanmean(temps),2) # return mean of list\n",
    "    "
   ]
  },
  {
   "cell_type": "code",
   "execution_count": null,
   "metadata": {},
   "outputs": [],
   "source": [
    "def get_mean_shear_of_neighbors(pix, neighbors):\n",
    "    shears = np.array([])\n",
    "    for n in neighbors:\n",
    "        new_shear = get_shear_from_color(pix[n[0],n[1]])\n",
    "        shears = np.append(shears, new_shear)\n",
    "    if len(shears) == 0: return np.nan\n",
    "    return round(np.nanmean(shears),2) # return mean of list"
   ]
  },
  {
   "cell_type": "code",
   "execution_count": null,
   "metadata": {},
   "outputs": [],
   "source": [
    "def get_temperature_from_color(col):\n",
    "    \"\"\"\n",
    "    use the color_temp_list list (painstakingly made) to calculate the temperature (in C) from a color;\n",
    "    args: color (tuples, length 3) the color to get the tempertature of\n",
    "    returns: temperature of color (float) between 0 and 40C based off scale in example photo\n",
    "    \"\"\"\n",
    "    min_dist = np.inf\n",
    "    min_temp = None\n",
    "    min_color = None\n",
    "    # iterate through all colors to find which is the closest\n",
    "    for i in color_temp_list: \n",
    "        dist = calculate_distance_between_colors(col,i[0])\n",
    "        if dist < min_dist - 0.001:\n",
    "            min_dist = dist\n",
    "            min_temp = i[1]\n",
    "            min_color = i[0]\n",
    "    # colors should be very close to those in color scale\n",
    "    # so if the distance is too large, assume an error occurred and return temp=0\n",
    "    if min_dist > 25: \n",
    "        return np.nan\n",
    "    else: \n",
    "        return min_temp"
   ]
  },
  {
   "cell_type": "code",
   "execution_count": null,
   "metadata": {},
   "outputs": [],
   "source": [
    "def get_shear_from_color(col):\n",
    "    if col == (0,0,0,255): return np.nan\n",
    "    if col == (255,171,127,255): return np.nan\n",
    "    min_dist = np.inf\n",
    "    min_shear = None\n",
    "    min_color = None\n",
    "    for i in color_shear_list: \n",
    "        dist = calculate_distance_between_colors(col,i[0])\n",
    "        if dist < min_dist - 0.001:\n",
    "            min_dist = dist\n",
    "            min_temp = i[1]\n",
    "            min_color = i[0]\n",
    "    if min_dist > 25: \n",
    "        return np.nan\n",
    "    else: \n",
    "        return min_temp"
   ]
  },
  {
   "cell_type": "code",
   "execution_count": null,
   "metadata": {},
   "outputs": [],
   "source": [
    "def calculate_distance_between_colors(a,b):\n",
    "    \"\"\" \n",
    "    calculate the euclidean distance between two colors using R,G,B as a vector between 0 and 255;\n",
    "    args: \n",
    "        a,b (tuples, length 3) colors to test, e.g. a=(255,0,255)\n",
    "    returns: \n",
    "        distance between colors (float)\n",
    "    \"\"\"\n",
    "    summ = 0\n",
    "    for i in range(3): # calculate euclidean distance for 3 coordinates (R,G,B)\n",
    "        summ += abs(a[i] - b[i])**2\n",
    "    return summ**0.5"
   ]
  },
  {
   "cell_type": "code",
   "execution_count": null,
   "metadata": {},
   "outputs": [],
   "source": [
    "def get_temperature_from_date_location(year, month, day, lat, lon):\n",
    "#     print(year, month, day, lat, lon)\n",
    "    try:\n",
    "        d = datetime.datetime(year, month, day)\n",
    "        name = f\"../data/SST_images/{d.year}{d:%m}{d:%d}.jpg\"\n",
    "        pix = get_pix_object(name) # get pix object of image\n",
    "    except:\n",
    "        print('no pix')\n",
    "        return np.nan\n",
    "\n",
    "#     if not exists(name):\n",
    "#         try:\n",
    "#             url_ = get_sst_image_url(d) # get daily NOAA SST image url\n",
    "#             save_image_to_file(url_, name) # save image to file\n",
    "#         except:\n",
    "#             return np.nan\n",
    "    \n",
    "    ch = check_alignment(pix, tests_sst, answers_sst) # make sure image is properly aligned\n",
    "    if ch:\n",
    "        coords = (lat,lon)\n",
    "        pixel = get_pixel_location_from_coords(coords, [63,1594], [103,868], [32.5,7.5], [100,50])\n",
    "        neighbors = find_neighbors_within_K(pixel,3, [63,1594], [103,868])\n",
    "        sst = get_mean_temp_of_neighbors(pix, neighbors)\n",
    "        return sst\n",
    "    else:\n",
    "        print('no align')\n",
    "        return np.nan"
   ]
  },
  {
   "cell_type": "markdown",
   "metadata": {},
   "source": [
    "# Wind Shear"
   ]
  },
  {
   "cell_type": "code",
   "execution_count": null,
   "metadata": {},
   "outputs": [],
   "source": [
    "def get_shear_image_url(d,time):\n",
    "    \"\"\" args: datetime; returns the url for the Wisco Wind Shear image for the argument date and time\"\"\"\n",
    "    return f\"http://tropic.ssec.wisc.edu/archive/data/NWAtlantic/{d.year}{d:%m}{d:%d}/DeepShearColorLarge/{d.year}{d:%m}{d:%d}.{time}.NWAtlantic.DeepShearColorLarge.png\""
   ]
  },
  {
   "cell_type": "code",
   "execution_count": null,
   "metadata": {},
   "outputs": [],
   "source": [
    "\"\"\" List of tests and answers to determine if the NOAA SST image is properly aligned \"\"\"\n",
    "\n",
    "a1 = (0,0); a1_ = (255, 171, 127, 255)\n",
    "b1 = (0,1); b1_ = (255, 171, 127, 255)\n",
    "c1 = (2,0); c1_ = (255, 171, 127, 255)\n",
    "\n",
    "a2 = (899,0); a2_ = (255, 171, 127, 255)\n",
    "b2 = (900,1); b2_ = (255, 171, 127, 255)\n",
    "c2 = (901,0); c2_ = (0, 0, 0, 255)\n",
    "\n",
    "a3 = (899,660); a3_ = (255, 171, 127, 255)\n",
    "b3 = (900,659); b3_ = (255, 171, 127, 255)\n",
    "c3 = (900,661); c3_ = (255, 171, 127, 255)\n",
    "d3 = (901,660); d3_ = (0, 0, 0, 255)\n",
    "\n",
    "a4 = (0,659); a4_ = (255, 171, 127, 255)\n",
    "b4 = (0,661); b4_ = (255, 171, 127, 255)\n",
    "c4 = (1,660); c4_ = (255, 171, 127, 255)\n",
    "\n",
    "tests_shear = [a1,b1,c1,a2,b2,c2,a3,b3,c3,d3,a4,b4,c4]\n",
    "answers_shear = [a1_,b1_,c1_,a2_,b2_,c2_,a3_,b3_,c3_,d3_,a4_,b4_,c4_]"
   ]
  },
  {
   "cell_type": "code",
   "execution_count": null,
   "metadata": {
    "scrolled": false
   },
   "outputs": [],
   "source": [
    "#Download wind shear images\n",
    "for year in range(2000,2022):\n",
    "    for month in range(1,13):\n",
    "        print(month, year)\n",
    "        for day in range(1,32):\n",
    "            for time in ['12']:\n",
    "                try:\n",
    "                    d = datetime.datetime(year,month,day)\n",
    "                    name = f\"../data/WindShear_images/{d.year}{d:%m}{d:%d}_{time}.jpg\"\n",
    "                    url_ = get_shear_image_url(d)\n",
    "                    save_image_to_file(url_, name)\n",
    "                except:\n",
    "                    pass"
   ]
  },
  {
   "cell_type": "code",
   "execution_count": null,
   "metadata": {},
   "outputs": [],
   "source": [
    "def get_shear_from_date_time_location(year, month, day, time, lat, lon):\n",
    "    try:\n",
    "        d = datetime.datetime(year, month, day)\n",
    "        name = f\"../data/WindShear_images/{d.year}{d:%m}{d:%d}_{time}.jpg\"\n",
    "        pix = get_pix_object(name) # get pix object of image\n",
    "    except:\n",
    "        print('no pix')\n",
    "        return np.nan\n",
    "\n",
    "    if not exists(name):\n",
    "        try:\n",
    "            url_ = get_shear_image_url(d,time) # get wind shear image url\n",
    "            save_image_to_file(url_, name) # save image to file\n",
    "        except:\n",
    "            return np.nan\n",
    "    \n",
    "    ch = check_alignment(pix, tests_shear, answers_shear) # make sure image is properly aligned\n",
    "    if ch:\n",
    "        coords = (lat,lon)\n",
    "        pixel = get_pixel_location_from_coords(coords, [0,900], [0,660], [60,0], [120,20])\n",
    "        neighbors = find_neighbors_within_K(pixel,5,[0,900], [0,660])\n",
    "        shear = get_mean_shear_of_neighbors(pix, neighbors)\n",
    "        return shear\n",
    "    else:\n",
    "        print('no align')\n",
    "        return np.nan"
   ]
  },
  {
   "cell_type": "code",
   "execution_count": null,
   "metadata": {},
   "outputs": [],
   "source": [
    "get_shear_from_date_time_location(2020,6,12,'06',30,60)"
   ]
  },
  {
   "cell_type": "code",
   "execution_count": null,
   "metadata": {},
   "outputs": [],
   "source": []
  },
  {
   "cell_type": "code",
   "execution_count": null,
   "metadata": {},
   "outputs": [],
   "source": []
  },
  {
   "cell_type": "code",
   "execution_count": null,
   "metadata": {},
   "outputs": [],
   "source": []
  },
  {
   "cell_type": "code",
   "execution_count": null,
   "metadata": {},
   "outputs": [],
   "source": []
  },
  {
   "cell_type": "code",
   "execution_count": null,
   "metadata": {
    "scrolled": true
   },
   "outputs": [],
   "source": [
    "get_temperature_from_date_location(2001, 11, 30, 22, 52)"
   ]
  },
  {
   "cell_type": "code",
   "execution_count": null,
   "metadata": {},
   "outputs": [],
   "source": [
    "d = datetime.datetime(2018, 6, 25)\n",
    "name = f\"../data/SST_images/{d.year}{d:%m}{d:%d}.jpg\"\n",
    "pix = get_pix_object(name)"
   ]
  },
  {
   "cell_type": "code",
   "execution_count": null,
   "metadata": {},
   "outputs": [],
   "source": [
    "exists(name)"
   ]
  },
  {
   "cell_type": "code",
   "execution_count": null,
   "metadata": {
    "scrolled": true
   },
   "outputs": [],
   "source": [
    "dat = pd.read_pickle('12_8_2021.pkl')\n",
    "dat['SST'] = np.nan\n",
    "DD = dat.iloc[-100:].copy(deep=True)"
   ]
  },
  {
   "cell_type": "code",
   "execution_count": null,
   "metadata": {},
   "outputs": [],
   "source": [
    "DD"
   ]
  },
  {
   "cell_type": "code",
   "execution_count": null,
   "metadata": {},
   "outputs": [],
   "source": [
    "DD['SST'] = DD.apply(lambda row:get_temperature_from_date_location(\n",
    "                            row.DateTime.year, \n",
    "                            row.DateTime.month, \n",
    "                            row.DateTime.day, \n",
    "                            row.Lat,\n",
    "                            -1*row.Lon),axis=1)"
   ]
  },
  {
   "cell_type": "code",
   "execution_count": null,
   "metadata": {
    "scrolled": false
   },
   "outputs": [],
   "source": [
    "pd.options.display.max_rows = 999\n",
    "DD"
   ]
  }
 ],
 "metadata": {
  "kernelspec": {
   "display_name": "Python 3 (ipykernel)",
   "language": "python",
   "name": "python3"
  },
  "language_info": {
   "codemirror_mode": {
    "name": "ipython",
    "version": 3
   },
   "file_extension": ".py",
   "mimetype": "text/x-python",
   "name": "python",
   "nbconvert_exporter": "python",
   "pygments_lexer": "ipython3",
   "version": "3.10.0"
  }
 },
 "nbformat": 4,
 "nbformat_minor": 4
}
