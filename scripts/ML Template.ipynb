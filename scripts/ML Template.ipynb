{
 "cells": [
  {
   "cell_type": "markdown",
   "id": "7e167cc9",
   "metadata": {},
   "source": [
    "<center><h1>Hurricane RI Analaysis: ML</h1></center>"
   ]
  },
  {
   "cell_type": "markdown",
   "id": "a6fa2e01",
   "metadata": {},
   "source": [
    "## 📚 <font color='steelblue'>Part 0:</font> Modules 📚"
   ]
  },
  {
   "cell_type": "code",
   "execution_count": 1,
   "id": "b27995b7",
   "metadata": {},
   "outputs": [],
   "source": [
    "# Data Management/Investigation\n",
    "import pandas as pd\n",
    "from pandas.api.types import CategoricalDtype # Ordering categories\n",
    "import numpy as np\n",
    "import missingno as miss\n",
    "\n",
    "# Plotting libraries\n",
    "from plotnine import *\n",
    "import matplotlib.pyplot as plt\n",
    "\n",
    "# For pre-processing data \n",
    "from sklearn import preprocessing as pp \n",
    "from sklearn.compose import ColumnTransformer \n",
    "\n",
    "# For splits and CV\n",
    "from sklearn.model_selection import train_test_split\n",
    "from sklearn.model_selection import KFold # Cross validation \n",
    "from sklearn.model_selection import cross_validate # Cross validation \n",
    "from sklearn.model_selection import GridSearchCV # Cross validation + param. tuning.\n",
    "\n",
    "# Machine learning methods \n",
    "from sklearn.naive_bayes import GaussianNB as NB\n",
    "from sklearn.neighbors import KNeighborsClassifier as KNN\n",
    "from sklearn.tree import DecisionTreeClassifier as DT\n",
    "from sklearn.tree import DecisionTreeRegressor as DT_reg\n",
    "from sklearn.ensemble import RandomForestClassifier as RF\n",
    "from sklearn import tree # For plotting the decision tree rules\n",
    "\n",
    "# For evaluating our model's performance\n",
    "import sklearn.metrics as m\n",
    "\n",
    "# Pipeline to combine modeling elements\n",
    "from sklearn.pipeline import Pipeline\n",
    "\n",
    "# For model interpretation\n",
    "from sklearn.inspection import (\n",
    "    permutation_importance,\n",
    "    partial_dependence, \n",
    "    PartialDependenceDisplay, \n",
    "    plot_partial_dependence\n",
    ")\n",
    "\n",
    "# Misc\n",
    "import warnings\n",
    "warnings.filterwarnings(\"ignore\")"
   ]
  },
  {
   "cell_type": "code",
   "execution_count": 35,
   "id": "c8b7bca4",
   "metadata": {},
   "outputs": [],
   "source": [
    "import missingno as ms"
   ]
  },
  {
   "cell_type": "markdown",
   "id": "1eb7dc65",
   "metadata": {},
   "source": [
    "## 💻 <font color='steelblue'>Part 1:</font> Load and Split Data 💻"
   ]
  },
  {
   "cell_type": "code",
   "execution_count": 23,
   "id": "0eddae0e",
   "metadata": {},
   "outputs": [
    {
     "data": {
      "text/plain": [
       "(52717, 20)"
      ]
     },
     "execution_count": 23,
     "metadata": {},
     "output_type": "execute_result"
    }
   ],
   "source": [
    "# Load Data on Credit Status\n",
    "dat = pd.read_pickle(\"12_8_2021.pkl\")\n",
    "dat.shape # display shape"
   ]
  },
  {
   "cell_type": "code",
   "execution_count": 24,
   "id": "449d279a",
   "metadata": {},
   "outputs": [
    {
     "data": {
      "text/html": [
       "<div>\n",
       "<style scoped>\n",
       "    .dataframe tbody tr th:only-of-type {\n",
       "        vertical-align: middle;\n",
       "    }\n",
       "\n",
       "    .dataframe tbody tr th {\n",
       "        vertical-align: top;\n",
       "    }\n",
       "\n",
       "    .dataframe thead th {\n",
       "        text-align: right;\n",
       "    }\n",
       "</style>\n",
       "<table border=\"1\" class=\"dataframe\">\n",
       "  <thead>\n",
       "    <tr style=\"text-align: right;\">\n",
       "      <th></th>\n",
       "      <th>Code</th>\n",
       "      <th>Name</th>\n",
       "      <th>Record</th>\n",
       "      <th>Status</th>\n",
       "      <th>Lat</th>\n",
       "      <th>Lon</th>\n",
       "      <th>Wind</th>\n",
       "      <th>Pressure</th>\n",
       "      <th>DateTime</th>\n",
       "      <th>34kt_radius</th>\n",
       "      <th>50kt_radius</th>\n",
       "      <th>64kt_radius</th>\n",
       "      <th>Bearing</th>\n",
       "      <th>Distance</th>\n",
       "      <th>Speed</th>\n",
       "      <th>Rapid_NHC12</th>\n",
       "      <th>Rapid_NHC24</th>\n",
       "      <th>Rapid_NHC12_Outcome</th>\n",
       "      <th>Rapid_NHC24_Outcome</th>\n",
       "      <th>Accel</th>\n",
       "    </tr>\n",
       "  </thead>\n",
       "  <tbody>\n",
       "    <tr>\n",
       "      <th>0</th>\n",
       "      <td>AL011851</td>\n",
       "      <td>UNNAMED</td>\n",
       "      <td></td>\n",
       "      <td>HU</td>\n",
       "      <td>28.0</td>\n",
       "      <td>-94.8</td>\n",
       "      <td>80</td>\n",
       "      <td>-999</td>\n",
       "      <td>1851-06-25 00:00:00</td>\n",
       "      <td>-999.0</td>\n",
       "      <td>-999.0</td>\n",
       "      <td>-999.0</td>\n",
       "      <td>0.000000</td>\n",
       "      <td>0.000000</td>\n",
       "      <td>0.000000</td>\n",
       "      <td>False</td>\n",
       "      <td>False</td>\n",
       "      <td>False</td>\n",
       "      <td>False</td>\n",
       "      <td>0.0</td>\n",
       "    </tr>\n",
       "    <tr>\n",
       "      <th>1</th>\n",
       "      <td>AL011851</td>\n",
       "      <td>UNNAMED</td>\n",
       "      <td></td>\n",
       "      <td>HU</td>\n",
       "      <td>28.0</td>\n",
       "      <td>-95.4</td>\n",
       "      <td>80</td>\n",
       "      <td>-999</td>\n",
       "      <td>1851-06-25 06:00:00</td>\n",
       "      <td>-999.0</td>\n",
       "      <td>-999.0</td>\n",
       "      <td>-999.0</td>\n",
       "      <td>-89.859158</td>\n",
       "      <td>31.866664</td>\n",
       "      <td>5.311111</td>\n",
       "      <td>False</td>\n",
       "      <td>False</td>\n",
       "      <td>False</td>\n",
       "      <td>False</td>\n",
       "      <td>0.0</td>\n",
       "    </tr>\n",
       "    <tr>\n",
       "      <th>2</th>\n",
       "      <td>AL011851</td>\n",
       "      <td>UNNAMED</td>\n",
       "      <td></td>\n",
       "      <td>HU</td>\n",
       "      <td>28.0</td>\n",
       "      <td>-96.0</td>\n",
       "      <td>80</td>\n",
       "      <td>-999</td>\n",
       "      <td>1851-06-25 12:00:00</td>\n",
       "      <td>-999.0</td>\n",
       "      <td>-999.0</td>\n",
       "      <td>-999.0</td>\n",
       "      <td>-89.859158</td>\n",
       "      <td>31.866664</td>\n",
       "      <td>5.311111</td>\n",
       "      <td>False</td>\n",
       "      <td>False</td>\n",
       "      <td>False</td>\n",
       "      <td>False</td>\n",
       "      <td>0.0</td>\n",
       "    </tr>\n",
       "    <tr>\n",
       "      <th>3</th>\n",
       "      <td>AL011851</td>\n",
       "      <td>UNNAMED</td>\n",
       "      <td></td>\n",
       "      <td>HU</td>\n",
       "      <td>28.1</td>\n",
       "      <td>-96.5</td>\n",
       "      <td>80</td>\n",
       "      <td>-999</td>\n",
       "      <td>1851-06-25 18:00:00</td>\n",
       "      <td>-999.0</td>\n",
       "      <td>-999.0</td>\n",
       "      <td>-999.0</td>\n",
       "      <td>-77.178366</td>\n",
       "      <td>27.209413</td>\n",
       "      <td>4.534902</td>\n",
       "      <td>False</td>\n",
       "      <td>False</td>\n",
       "      <td>False</td>\n",
       "      <td>False</td>\n",
       "      <td>0.0</td>\n",
       "    </tr>\n",
       "    <tr>\n",
       "      <th>4</th>\n",
       "      <td>AL011851</td>\n",
       "      <td>UNNAMED</td>\n",
       "      <td>L</td>\n",
       "      <td>HU</td>\n",
       "      <td>28.2</td>\n",
       "      <td>-96.8</td>\n",
       "      <td>80</td>\n",
       "      <td>-999</td>\n",
       "      <td>1851-06-25 21:00:00</td>\n",
       "      <td>-999.0</td>\n",
       "      <td>-999.0</td>\n",
       "      <td>-999.0</td>\n",
       "      <td>-69.318979</td>\n",
       "      <td>16.999238</td>\n",
       "      <td>5.666413</td>\n",
       "      <td>False</td>\n",
       "      <td>False</td>\n",
       "      <td>False</td>\n",
       "      <td>False</td>\n",
       "      <td>0.0</td>\n",
       "    </tr>\n",
       "  </tbody>\n",
       "</table>\n",
       "</div>"
      ],
      "text/plain": [
       "       Code     Name Record Status   Lat   Lon  Wind  Pressure  \\\n",
       "0  AL011851  UNNAMED            HU  28.0 -94.8    80      -999   \n",
       "1  AL011851  UNNAMED            HU  28.0 -95.4    80      -999   \n",
       "2  AL011851  UNNAMED            HU  28.0 -96.0    80      -999   \n",
       "3  AL011851  UNNAMED            HU  28.1 -96.5    80      -999   \n",
       "4  AL011851  UNNAMED      L     HU  28.2 -96.8    80      -999   \n",
       "\n",
       "             DateTime  34kt_radius  50kt_radius  64kt_radius    Bearing  \\\n",
       "0 1851-06-25 00:00:00       -999.0       -999.0       -999.0   0.000000   \n",
       "1 1851-06-25 06:00:00       -999.0       -999.0       -999.0 -89.859158   \n",
       "2 1851-06-25 12:00:00       -999.0       -999.0       -999.0 -89.859158   \n",
       "3 1851-06-25 18:00:00       -999.0       -999.0       -999.0 -77.178366   \n",
       "4 1851-06-25 21:00:00       -999.0       -999.0       -999.0 -69.318979   \n",
       "\n",
       "    Distance     Speed Rapid_NHC12 Rapid_NHC24 Rapid_NHC12_Outcome  \\\n",
       "0   0.000000  0.000000       False       False               False   \n",
       "1  31.866664  5.311111       False       False               False   \n",
       "2  31.866664  5.311111       False       False               False   \n",
       "3  27.209413  4.534902       False       False               False   \n",
       "4  16.999238  5.666413       False       False               False   \n",
       "\n",
       "  Rapid_NHC24_Outcome  Accel  \n",
       "0               False    0.0  \n",
       "1               False    0.0  \n",
       "2               False    0.0  \n",
       "3               False    0.0  \n",
       "4               False    0.0  "
      ]
     },
     "execution_count": 24,
     "metadata": {},
     "output_type": "execute_result"
    }
   ],
   "source": [
    "dat.head()"
   ]
  },
  {
   "cell_type": "code",
   "execution_count": 25,
   "id": "0ddc3284",
   "metadata": {},
   "outputs": [],
   "source": [
    "dat = dat.replace(-999, np.nan)"
   ]
  },
  {
   "cell_type": "code",
   "execution_count": 26,
   "id": "124e0437",
   "metadata": {},
   "outputs": [],
   "source": [
    "# Set seed for reproducibility\n",
    "set_seed = 42069"
   ]
  },
  {
   "cell_type": "code",
   "execution_count": 27,
   "id": "6b0d8c38",
   "metadata": {},
   "outputs": [],
   "source": [
    "def xy_splitter(dat, set_seed):\n",
    "    \"\"\"\n",
    "    this method splits the credit status data into training and testing for X and y.\n",
    "    -----------------\n",
    "    args: \n",
    "        dat (df): dataframe with cerdit status data\n",
    "        set_seed (int): seed for reproducibility\n",
    "    returns:\n",
    "        tuple of 4 dataframes:\n",
    "            train_X (df): training data for the prediction variables\n",
    "            test_X (df): testing data for the prediction variables\n",
    "            train_y (df): training data for the outcome variable\n",
    "            test_y (df): testing data for the outcome variable\n",
    "    \"\"\"\n",
    "    y = dat['Rapid_NHC24_Outcome'] # outcome variable: credit status (boolean, good or bad)\n",
    "    X = dat.loc[:, dat.columns != 'Status'] # prediction variables: include all except outcome variable\n",
    "    return train_test_split(X,y,test_size=.25,random_state=set_seed)"
   ]
  },
  {
   "cell_type": "code",
   "execution_count": 28,
   "id": "c0da5838",
   "metadata": {},
   "outputs": [],
   "source": [
    "# split credit data into training and testing with prediction and outcome variables\n",
    "train_X, test_X, train_y, test_y = xy_splitter(dat, set_seed)"
   ]
  },
  {
   "cell_type": "markdown",
   "id": "13d5dcd0",
   "metadata": {},
   "source": [
    "## 📊 <font color='steelblue'>Part 2:</font> Examine the Training Data 📊\n",
    "\n",
    "### Unit of Analysis\n",
    "\n",
    "The unit of analysis is a single person, and for each person, we are determining whether they have a good or bad credit status based on the predictors."
   ]
  },
  {
   "cell_type": "markdown",
   "id": "58b08c99",
   "metadata": {},
   "source": [
    "### Data Types\n",
    "\n",
    "Some data types (strings) do not work well with our ML pipeline, so we fix those in preprocessing."
   ]
  },
  {
   "cell_type": "code",
   "execution_count": 29,
   "id": "10617ab4",
   "metadata": {
    "scrolled": false
   },
   "outputs": [
    {
     "data": {
      "text/plain": [
       "Code                           object\n",
       "Name                           object\n",
       "Record                         object\n",
       "Lat                           float64\n",
       "Lon                           float64\n",
       "Wind                            int32\n",
       "Pressure                      float64\n",
       "DateTime               datetime64[ns]\n",
       "34kt_radius                   float64\n",
       "50kt_radius                   float64\n",
       "64kt_radius                   float64\n",
       "Bearing                       float64\n",
       "Distance                      float64\n",
       "Speed                         float64\n",
       "Rapid_NHC12                    object\n",
       "Rapid_NHC24                    object\n",
       "Rapid_NHC12_Outcome            object\n",
       "Rapid_NHC24_Outcome            object\n",
       "Accel                         float64\n",
       "dtype: object"
      ]
     },
     "execution_count": 29,
     "metadata": {},
     "output_type": "execute_result"
    }
   ],
   "source": [
    "train_X.dtypes # display data types"
   ]
  },
  {
   "cell_type": "markdown",
   "id": "6838b2d3",
   "metadata": {},
   "source": [
    "### Data Completeness\n",
    "\n",
    "Missing data can cause headaches in the ML pipeline, so we we examine and remove missing values in preprocessing."
   ]
  },
  {
   "cell_type": "code",
   "execution_count": 30,
   "id": "58cfd271",
   "metadata": {},
   "outputs": [
    {
     "name": "stdout",
     "output_type": "stream",
     "text": [
      "0 \t Code\n",
      "0 \t Name\n",
      "0 \t Record\n",
      "0 \t Status\n",
      "0 \t Lat\n",
      "0 \t Lon\n",
      "0 \t Wind\n",
      "30960 \t Pressure\n",
      "0 \t DateTime\n",
      "43616 \t 34kt_radius\n",
      "43616 \t 50kt_radius\n",
      "43616 \t 64kt_radius\n",
      "0 \t Bearing\n",
      "0 \t Distance\n",
      "0 \t Speed\n",
      "0 \t Rapid_NHC12\n",
      "0 \t Rapid_NHC24\n",
      "0 \t Rapid_NHC12_Outcome\n",
      "0 \t Rapid_NHC24_Outcome\n",
      "0 \t Accel\n"
     ]
    }
   ],
   "source": [
    "# Count missing values in each column (note we are checking the full data, not just training)\n",
    "for col in dat.columns: \n",
    "    print(dat[col].isna().sum(),'\\t', col)"
   ]
  },
  {
   "cell_type": "code",
   "execution_count": 37,
   "id": "7c2f0af8",
   "metadata": {},
   "outputs": [
    {
     "data": {
      "text/plain": [
       "<AxesSubplot:>"
      ]
     },
     "execution_count": 37,
     "metadata": {},
     "output_type": "execute_result"
    },
    {
     "data": {
      "image/png": "[encoded data removed]",
      "text/plain": [
       "<Figure size 1800x720 with 2 Axes>"
      ]
     },
     "metadata": {
      "needs_background": "light"
     },
     "output_type": "display_data"
    }
   ],
   "source": [
    "ms.matrix(dat)"
   ]
  },
  {
   "cell_type": "markdown",
   "id": "8684aef1",
   "metadata": {},
   "source": [
    "### Data Variation and Distribution\n",
    "\n",
    "Now let's get a 'feel' for the data by checking out the distributions. \n",
    "\n",
    "Note, now we need to be extremely careful to **only view the training data**, or else we could end up in machine learning hell. 👹 👹 \n",
    "\n",
    "First, looking at the outcome variable, it appears that 2/3 of people receive a 'good' credit rating while 1/3 of people get a 'bad' rating."
   ]
  },
  {
   "cell_type": "code",
   "execution_count": 33,
   "id": "7a49ff61",
   "metadata": {},
   "outputs": [
    {
     "data": {
      "image/png": "[encoded data removed]",
      "text/plain": [
       "<Figure size 300x150 with 1 Axes>"
      ]
     },
     "metadata": {
      "needs_background": "light"
     },
     "output_type": "display_data"
    }
   ],
   "source": [
    "( # Display distribution of outcome variable Credit Status (training only, duh)\n",
    "    ggplot(pd.DataFrame(dict(status=train_y)), aes(x=\"status\")) +\n",
    "    geom_histogram(bins=3) +\n",
    "    theme_minimal() +\n",
    "    theme(figure_size = (3,1.5))\n",
    ").draw();"
   ]
  },
  {
   "cell_type": "markdown",
   "id": "69280206",
   "metadata": {},
   "source": [
    "Next, let's look at categorical variables, again **only looking at the training data**."
   ]
  },
  {
   "cell_type": "code",
   "execution_count": null,
   "id": "e727181c",
   "metadata": {},
   "outputs": [],
   "source": [
    "d = train_X.select_dtypes(include=\"object\").melt() # melt numeric categorical columns together\n",
    "\n",
    "( # Display distribution of categorical prediction variables\n",
    "    ggplot(d,aes(x=\"value\")) +\n",
    "    geom_bar() +\n",
    "    facet_wrap(\"variable\",scales='free') +\n",
    "    theme(figure_size=(6,3), subplots_adjust={'wspace':0.25, 'hspace':1.25}, axis_text_x=element_text(rotation=45, hjust=1))\n",
    ").draw();"
   ]
  },
  {
   "cell_type": "markdown",
   "id": "312a4dbc",
   "metadata": {},
   "source": [
    "Lastly, we check out the numeric data columns. Here we encounter some pretty skewed distributions that will need to be fixed."
   ]
  },
  {
   "cell_type": "code",
   "execution_count": 34,
   "id": "97dff039",
   "metadata": {},
   "outputs": [
    {
     "data": {
      "image/png": "[encoded data removed]",
      "text/plain": [
       "<Figure size 1000x500 with 11 Axes>"
      ]
     },
     "metadata": {},
     "output_type": "display_data"
    }
   ],
   "source": [
    "numerics = ['int16','int32','int64','float16','float32','float64'] # list of all numeric types\n",
    "d = train_X.select_dtypes(include=numerics).melt() # melt numeric columns together\n",
    "\n",
    "( # Display distribution of integer prediction variables\n",
    "    ggplot(d,aes(x=\"value\")) +\n",
    "    geom_histogram(bins=25) +\n",
    "    facet_wrap(\"variable\",scales='free') +\n",
    "    theme(figure_size=(10,5), subplots_adjust={'wspace':0.25, 'hspace':0.75})\n",
    ").draw();"
   ]
  },
  {
   "cell_type": "markdown",
   "id": "e38b78ee",
   "metadata": {},
   "source": [
    "### Data Examination Conclusions and High Level Preprocessing"
   ]
  },
  {
   "cell_type": "markdown",
   "id": "c4cd5a69",
   "metadata": {},
   "source": [
    "In my exploration, I learned that this data is very clean and only needs a little work before it is ready for the ML pipeline. There are missing data points in multiple variables, but these missing points do not make a majority of the variables, so we simply remove those rows with missing values.\n",
    "\n",
    "In addition, several of the prediction variables have highly skewed distributions, something that could affect the accuracy of our model later. To fix this, we will take the natural log of these variables with the goal of 'unskewing' the distributions.\n",
    "\n",
    "Most of these look good after taking the log, but the Debt and Assets variables both have a considerable portion of the values at 0. \n",
    "\n",
    "To fix these, we transform these into categorical variables with three categories,\n",
    "\n",
    "0. (Debt/Assets) are 0\n",
    "1. (Debt/Assets) are below median (excluding 0's in median calculation)\n",
    "2. (Debt/Assets) are above median (excluding 0's in median calculation)"
   ]
  },
  {
   "cell_type": "code",
   "execution_count": null,
   "id": "c0d64214",
   "metadata": {
    "scrolled": false
   },
   "outputs": [],
   "source": [
    "## Fix missing data\n",
    "dat = dat.dropna()\n",
    "\n",
    "## Take log of variables to unskew\n",
    "# list of variables we want to logify\n",
    "to_Log = ['Price','Expenses','Income','Amount','Debt','Assets','Seniority'] \n",
    "for col in to_Log: # iterate through the list and take the natural log of each column\n",
    "    dat[f\"ln_{col}\"] = np.log(dat[col] + 1)\n",
    "\n",
    "## Transform Debt and Assets into categorical variable, as described above\n",
    "for col in ['Debt','Assets']:\n",
    "    median = dat.loc[dat[col] > 0,col].median()\n",
    "    dat[f'cat_{col}'] =  np.where(dat[col]==0,0,np.where(dat[col] <= median,1,2))\n",
    "\n",
    "## Convert object columns to category data type\n",
    "dat_cat = dat.select_dtypes(['object']) # get dataframe with only object columns\n",
    "dat[dat_cat.columns] = dat_cat.apply(lambda x: x.astype('category')) # convert object columns to categorical\n",
    "dat[['cat_Debt','cat_Assets']] = dat[['cat_Debt','cat_Assets']].apply(lambda x: x.astype('category'))\n",
    "\n",
    "cat_columns = dat.select_dtypes(['category']).columns # get dataframe with only object columns\n",
    "dat[cat_columns] = dat[cat_columns].apply(lambda x: x.cat.codes)"
   ]
  },
  {
   "cell_type": "markdown",
   "id": "ab56463f",
   "metadata": {},
   "source": [
    "## ➡️ <font color='steelblue'>Part 3:</font> Build the ML Pipeline ➡️"
   ]
  },
  {
   "cell_type": "code",
   "execution_count": null,
   "id": "765f8984",
   "metadata": {},
   "outputs": [],
   "source": [
    "dat = dat[['Status','Seniority', 'Home', 'Time', 'Age', 'Records', 'Job',\n",
    "           'ln_Expenses', 'ln_Income', 'cat_Assets', 'ln_Amount', 'ln_Price']]\n",
    "\n",
    "# Re-split data since we modified original dataframe\n",
    "train_X, test_X, train_y, test_y = xy_splitter(dat, set_seed)"
   ]
  },
  {
   "cell_type": "code",
   "execution_count": null,
   "id": "523300d8",
   "metadata": {},
   "outputs": [],
   "source": [
    "# Set the folds index to ensure comparable samples, use 5 folds with set seed 202011\n",
    "fold_generator = KFold(n_splits=5, shuffle=True,random_state=set_seed)"
   ]
  },
  {
   "cell_type": "code",
   "execution_count": null,
   "id": "bf61f34b",
   "metadata": {},
   "outputs": [],
   "source": [
    "# Create Pipeline using built in pre-processing and MinMaxScaler, set default model to None\n",
    "pipe = Pipeline(steps=[('pre_process', pp.MinMaxScaler()),('model',None)])"
   ]
  },
  {
   "cell_type": "code",
   "execution_count": null,
   "id": "66ea79e9",
   "metadata": {},
   "outputs": [],
   "source": [
    "# Create model search space with tuning parameters using four models defined in assignment:\n",
    "# Naive Bayes, K-nearest Neighbors, Decision Tree, Random Forest\n",
    "\n",
    "search_space = [\n",
    "\n",
    "    # NaiveBayes\n",
    "    {'model': [NB()]},\n",
    "    \n",
    "    # KNN with K tuning param\n",
    "    {'model' : [KNN()],\n",
    "     'model__n_neighbors':[5,10,20,40,60,80,100,125,150,200,300,400]},\n",
    "    \n",
    "    # Decision Tree with the Max Depth Param\n",
    "    {'model': [DT()],\n",
    "     'model__max_depth':[2,3,4,5,6,7,8,9,10]},\n",
    "    \n",
    "    # Random forest with the N Estimators tuning param\n",
    "    {'model' : [RF()],\n",
    "    'model__max_depth':[2,3,4,5,6,7,8,9,10],\n",
    "    'model__n_estimators':[250,500,750,1000,1250,1500]}\n",
    "\n",
    "]"
   ]
  },
  {
   "cell_type": "code",
   "execution_count": null,
   "id": "d296948f",
   "metadata": {},
   "outputs": [],
   "source": [
    "# define grid search function \n",
    "search = GridSearchCV(pipe, search_space, cv = fold_generator, scoring='roc_auc', n_jobs=4)"
   ]
  },
  {
   "cell_type": "markdown",
   "id": "b55c853a",
   "metadata": {},
   "source": [
    "## 🎆 <font color='steelblue'>Part 4:</font> Run the Models 🎆"
   ]
  },
  {
   "cell_type": "code",
   "execution_count": null,
   "id": "4cfa69cb",
   "metadata": {},
   "outputs": [],
   "source": [
    "# Search through each model, this is where the magic happens \n",
    "search.fit(train_X,train_y)"
   ]
  },
  {
   "cell_type": "code",
   "execution_count": null,
   "id": "a29313e0",
   "metadata": {},
   "outputs": [],
   "source": [
    "# Best score, per ROC AUC metric\n",
    "search.best_score_"
   ]
  },
  {
   "cell_type": "code",
   "execution_count": null,
   "id": "d560c9d6",
   "metadata": {},
   "outputs": [],
   "source": [
    "# Model with the best parameters\n",
    "search.best_params_"
   ]
  },
  {
   "cell_type": "code",
   "execution_count": null,
   "id": "accb7a38",
   "metadata": {},
   "outputs": [],
   "source": [
    "# define a variable allowing us to use the estimator more later\n",
    "rf_mod = search.best_estimator_"
   ]
  },
  {
   "cell_type": "markdown",
   "id": "c22b1290",
   "metadata": {},
   "source": [
    "## 🔎 <font color='steelblue'>Part 5:</font> Idenitfy Best Model 🔎"
   ]
  },
  {
   "cell_type": "code",
   "execution_count": null,
   "id": "174f803d",
   "metadata": {
    "scrolled": true
   },
   "outputs": [],
   "source": [
    "# ROC AUC score for the best model (defined above) for the training data\n",
    "m.roc_auc_score(train_y, rf_mod.predict_proba(train_X)[:,1])"
   ]
  },
  {
   "cell_type": "code",
   "execution_count": null,
   "id": "2839b052",
   "metadata": {},
   "outputs": [],
   "source": [
    "# Accuracy score (percentage correct) for the best model on the training data\n",
    "m.accuracy_score(train_y, rf_mod.predict(train_X))"
   ]
  },
  {
   "cell_type": "markdown",
   "id": "a7c04a7b",
   "metadata": {},
   "source": [
    "The best preforming model was the Random Forest with depth 8 and 1250 estimators. Throughout my testing, the random forest model consistently preformed the best of the four, althought the tuning parameters often varied."
   ]
  },
  {
   "cell_type": "markdown",
   "id": "916b5e23",
   "metadata": {},
   "source": [
    "## 🔮 <font color='steelblue'>Part 6:</font> Model Interpretation 🔮"
   ]
  },
  {
   "cell_type": "markdown",
   "id": "f3444416",
   "metadata": {},
   "source": [
    "### Permutation Importance\n",
    "\n",
    "We remove one variable at a time (permutation) to back solve and find the most important predicition variable."
   ]
  },
  {
   "cell_type": "code",
   "execution_count": null,
   "id": "af4d4d35",
   "metadata": {},
   "outputs": [],
   "source": [
    "vi = permutation_importance(rf_mod,train_X,train_y,n_repeats=25)"
   ]
  },
  {
   "cell_type": "code",
   "execution_count": null,
   "id": "3257854d",
   "metadata": {},
   "outputs": [],
   "source": [
    "# Organize permutation importance as a data frame \n",
    "vi_dat = pd.DataFrame(dict(variable=train_X.columns, vi = vi['importances_mean'], std = vi['importances_std']))\n",
    "\n",
    "# Generate confidence intervals (using t-stat of 2)\n",
    "vi_dat['low'] = vi_dat['vi'] - 2*vi_dat['std']\n",
    "vi_dat['high'] = vi_dat['vi'] + 2*vi_dat['std']\n",
    "\n",
    "# Order variables from most to least important\n",
    "vi_dat = vi_dat.sort_values(by=\"vi\",ascending=False).reset_index(drop=True)\n",
    "vi_dat"
   ]
  },
  {
   "cell_type": "markdown",
   "id": "dfc9adb4",
   "metadata": {},
   "source": [
    "As you can see from the table, the variables with the highest importance were (in order) Records, ln_Income, and Job, each with greater than 0.054 vi. Although, all of the included variables seem to have a reasonable sized proportional effect on Y. The least important variable is only 3.5 times less important than the most important. It's not as though one variable reigns supreme overall. However, Records is clearly the most important, with 0.02 more vi than any other."
   ]
  },
  {
   "cell_type": "code",
   "execution_count": null,
   "id": "db2d15ec",
   "metadata": {},
   "outputs": [],
   "source": [
    "( # Plot permutation importance with error bars showing 95% confidence interval\n",
    "    ggplot(vi_dat, aes(x=\"variable\",y=\"vi\")) +\n",
    "    geom_col(alpha=.5) +\n",
    "    geom_point() +\n",
    "    ggtitle('Permutation Importance of Variable') +\n",
    "    geom_errorbar(aes(ymin=\"low\",ymax=\"high\"),width=.2) +\n",
    "    theme_bw() +\n",
    "    scale_x_discrete(limits=vi_dat.variable.tolist()) +\n",
    "    coord_flip() +\n",
    "    labs(y=\"Reduction in AUC ROC\",x=\"\")\n",
    ").draw();"
   ]
  },
  {
   "cell_type": "markdown",
   "id": "d6574405",
   "metadata": {},
   "source": [
    "### Partial Dependency"
   ]
  },
  {
   "cell_type": "code",
   "execution_count": null,
   "id": "b5ff6384",
   "metadata": {},
   "outputs": [],
   "source": [
    "# Target specific features (those that matter the most, per permutation importance)\n",
    "features = ['Records','ln_Income','Job','Seniority','ln_Amount']\n",
    "\n",
    "# Calculate the partial dependency and plot\n",
    "fig, ax = plt.subplots(figsize=(15, 4))\n",
    "plt.title('Partial Dependency Plots', fontsize=18, pad=10)\n",
    "display = plot_partial_dependence(rf_mod, train_X, features,n_cols=5, n_jobs=4, grid_resolution=30,ax=ax)"
   ]
  },
  {
   "cell_type": "markdown",
   "id": "737b7583",
   "metadata": {},
   "source": [
    "### Partial Dependency Interaction"
   ]
  },
  {
   "cell_type": "code",
   "execution_count": null,
   "id": "595ff424",
   "metadata": {},
   "outputs": [],
   "source": [
    "# Feed in the ineraction pairs as a nested list\n",
    "interacted_features = [['Records','ln_Income'],['Job','ln_Income'],['Job','Records']] \n",
    "\n",
    "# Calculate the partial dependency interaction and plot\n",
    "fig, ax = plt.subplots(figsize=(12, 4))\n",
    "plt.title('Partial Dependency Interaction Plots', fontsize=18, pad=10)\n",
    "display = plot_partial_dependence(rf_mod, train_X, interacted_features, n_cols=3, n_jobs=4, grid_resolution=100,ax=ax)\n",
    "fig.tight_layout()"
   ]
  },
  {
   "cell_type": "markdown",
   "id": "74e509e5",
   "metadata": {},
   "source": [
    "The marginal relationships tell us how the predicted outcome variable will change when we vary the interaction variables, while holding all else constast. As you can expect, they are very similar to the regular partial dependency plots but they allow us to vary two variable at once, how useful! We should be wary of these when using dummy independent variables. For example, Records is binary (only values 0 and 1) so considering Records at 0.6 in the partial dependency plots doesn't make much sense. Instead, we can only consider the places where Records equals 0 or 1."
   ]
  },
  {
   "cell_type": "markdown",
   "id": "23f5fed1",
   "metadata": {},
   "source": [
    "### Individual Conditional Expectation (ICE)"
   ]
  },
  {
   "cell_type": "code",
   "execution_count": null,
   "id": "c9b4e6c3",
   "metadata": {},
   "outputs": [],
   "source": [
    "# Target specific features (those that matter the most, per permutation importance)\n",
    "features = ['Records','ln_Income']\n",
    "\n",
    "# Calculate ICE and display plots\n",
    "fig, ax = plt.subplots(figsize=(6, 4))\n",
    "plt.title('Individual Conditional Expectation Plots', fontsize=18, pad=10)\n",
    "display = PartialDependenceDisplay.from_estimator(\n",
    "    rf_mod,\n",
    "    train_X,\n",
    "    features,\n",
    "    kind=\"both\", # \"average\" = just PDP, \"individual\" = just ICE\n",
    "    subsample=50,\n",
    "    n_jobs=3,\n",
    "    grid_resolution=20,\n",
    "    random_state=0,\n",
    "    ice_lines_kw={\"color\": \"tab:blue\", \"alpha\": 0.2, \"linewidth\": 0.5},\n",
    "    pd_line_kw={\"color\": \"tab:orange\", \"linestyle\": \"--\"},\n",
    "    n_cols=len(features),\n",
    "    ax = ax\n",
    ")\n",
    "display.figure_.subplots_adjust(hspace=0.3)"
   ]
  },
  {
   "cell_type": "markdown",
   "id": "d406de6c",
   "metadata": {},
   "source": [
    "Yes, we can clearly see heterogeneity when observing the ICE plots. For the most important variable, Records, it is a bit harder to see (since it's a dummy variable) but we can tell that not of the lines have the same slope. More clearly  in the second most important variable, ln_Income, we can see that there is clear heterogeneity in the observations. The heterogeneity indicates that the independent variable will have varying affects based on the initial partial dependence. For example, someone with a low propensity for a loan does not see the same impact of Income on their chances as someone who began with a high propensity for the loan."
   ]
  },
  {
   "cell_type": "markdown",
   "id": "50726d50",
   "metadata": {},
   "source": [
    "## 🧠 <font color='steelblue'>Part 7:</font> Hypothesization 🧠"
   ]
  },
  {
   "cell_type": "markdown",
   "id": "39949ee9",
   "metadata": {},
   "source": [
    "I struggled to make a hypotehsis because I am unsure exactly what the Records variable actually means (and other people including Prof Dunford have conflicting views on the meaning) SO I choose to believe it means a criminal records: 0 if no criminal record, 1 if the person does have a criminal record.\n",
    "\n",
    "My hypothesis is that the credit agency (or whoever is assigning the credit status) cares most about the ability of that individual to make money and not steal it. Three of the top four categories are job related, specifically what type of job, years at the job, and income. All of these affect the ability of someone to make the money back to pay the loan. The algorithm shows less care about other things like Debt and Expenses which is surprising to me. It seems the credit agency cares more about ability to make money to pay back the loan now but not the other obstacles in a persons life like previous debt or expenses. The final variable, criminal record, isn't job related, but seems like something a credit agency would care a lot about. They don't want to give money to someone with a criminal history, so it is not surprsing to me that this is the most important variable. To explore this analysis further, I would be interested first in learning what exactly Records means. Then, I would test how correlated each of the job related variables are. Perhaps there is some comination of them that produces the best model, but I could not find what it was. Beyond that, I am sure the insurance company has more information about each person, knowing those categories may help fine tune our model in the future."
   ]
  }
 ],
 "metadata": {
  "kernelspec": {
   "display_name": "Python 3 (ipykernel)",
   "language": "python",
   "name": "python3"
  },
  "language_info": {
   "codemirror_mode": {
    "name": "ipython",
    "version": 3
   },
   "file_extension": ".py",
   "mimetype": "text/x-python",
   "name": "python",
   "nbconvert_exporter": "python",
   "pygments_lexer": "ipython3",
   "version": "3.10.0"
  }
 },
 "nbformat": 4,
 "nbformat_minor": 5
}
