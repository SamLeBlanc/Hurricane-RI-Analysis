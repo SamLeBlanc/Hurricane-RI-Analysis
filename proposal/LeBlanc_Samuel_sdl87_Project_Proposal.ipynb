{
 "cells": [
  {
   "cell_type": "markdown",
   "metadata": {},
   "source": [
    "# Project Proposal\n",
    "## 11/3/2021"
   ]
  },
  {
   "cell_type": "markdown",
   "metadata": {},
   "source": [
    "## 1. High-level statement"
   ]
  },
  {
   "cell_type": "markdown",
   "metadata": {},
   "source": [
    "For my project, I have chosen to investigate one of the hot, new research topics in atmospheric science, rapid intensification of hurricanes. Recent analysis has shown that there is an increasing trend of rapid intensification (RI) events in the last two decades, likely due to anthropogenic climate change. This is a very new area of research, with most of the seminal papers written in the last four years. The National Hurricane Center defines a RI events as an increase of 35 mph or more in sustained wind speed over 24 hours, but there is some debate in the field as to whether this is the correct metric. For my project, I plan on investigating RI events using a variable thresholds for what defines an RI event."
   ]
  },
  {
   "cell_type": "markdown",
   "metadata": {},
   "source": [
    "## 2. Data Source"
   ]
  },
  {
   "cell_type": "markdown",
   "metadata": {},
   "source": [
    "For my data source, I will be using the best track data from the National Hurricane Center (NHC) known as HURDAT2. This dataset contains information on all hurricanes in the Atlantic basin for the last 40 years, as well as inconsistent hurricane data for the 100 years before that. Each row is an observation of a specific hurricane (usually taken at 6 hour intervals) with information about the location, wind speed, pressure, and size at the time of observation."
   ]
  },
  {
   "cell_type": "markdown",
   "metadata": {},
   "source": [
    "## 3. Data obtaining"
   ]
  },
  {
   "cell_type": "markdown",
   "metadata": {},
   "source": [
    "The HURDAT2 data is available on the NHC website in .txt format [here.](https://www.nhc.noaa.gov/data/)"
   ]
  },
  {
   "cell_type": "markdown",
   "metadata": {},
   "source": [
    "## 4. Methods"
   ]
  },
  {
   "cell_type": "markdown",
   "metadata": {},
   "source": [
    "While the data is relatively ‘clean’, it is formatted in a very strange manner. For example, each row does not have a storm identifier value, instead, there are ‘new storm lines’ which denotes that the next X lines belong to said storm, but there is not inherent identifier per row. I will need to use data wrangling methods from class to fix these issues and get the data in a usable dataframe. For my data visualization component, I plan to use geospatial visualization techniques to map the intensification factor (the derivative of speed) as they move into the Gulf of Mexico. I am very interested in geospatial data visualizations so I hope to learn more about that in this project. while I don't know much about statistical learning yet, I hope to use it predict if a hurricane will have an RI event based on its tracking data up to a point. "
   ]
  },
  {
   "cell_type": "markdown",
   "metadata": {},
   "source": [
    "## 5. Success"
   ]
  },
  {
   "cell_type": "markdown",
   "metadata": {},
   "source": [
    "For this project, I define success as understanding the context and conditions of Rapid Intensification events. To do this, I will need to accomplish the three main goals from the previous paragraph. Before I can understand the statistical learning component, I will first need to preform the visualizations, learning how RI events happen in a real world context. But before I can visualize the data, I first need to wrangle. This sounds very straightforward, but I think the key to my success is not to get carried away with any one part, but instead to focus on completing one piece at a time. As part of my finished product, I want to have visualizations that help to demonstrate my strengths and versatility in the world of geospatial data analysis."
   ]
  }
 ],
 "metadata": {
  "kernelspec": {
   "display_name": "Python 3 (ipykernel)",
   "language": "python",
   "name": "python3"
  },
  "language_info": {
   "codemirror_mode": {
    "name": "ipython",
    "version": 3
   },
   "file_extension": ".py",
   "mimetype": "text/x-python",
   "name": "python",
   "nbconvert_exporter": "python",
   "pygments_lexer": "ipython3",
   "version": "3.8.10"
  }
 },
 "nbformat": 4,
 "nbformat_minor": 4
}
